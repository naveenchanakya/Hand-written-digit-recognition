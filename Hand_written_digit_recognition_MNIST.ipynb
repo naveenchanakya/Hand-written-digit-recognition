{
  "nbformat": 4,
  "nbformat_minor": 0,
  "metadata": {
    "colab": {
      "name": "Hand written digit recognition - MNIST.ipynb",
      "version": "0.3.2",
      "provenance": []
    },
    "kernelspec": {
      "name": "python3",
      "display_name": "Python 3"
    }
  },
  "cells": [
    {
      "cell_type": "code",
      "metadata": {
        "id": "EDMXPE0NgggC",
        "colab_type": "code",
        "colab": {}
      },
      "source": [
        "pip install tensorflow==2.0.0-beta1 "
      ],
      "execution_count": 0,
      "outputs": []
    },
    {
      "cell_type": "code",
      "metadata": {
        "id": "Jlw1X80VhjhU",
        "colab_type": "code",
        "colab": {
          "base_uri": "https://localhost:8080/",
          "height": 72
        },
        "outputId": "600ffaca-3095-4898-cad5-cc44d04bfb8b"
      },
      "source": [
        "import tensorflow as tf\n",
        "import keras\n",
        "\n",
        "print(tf.__version__)\n",
        "print(keras.__version__)"
      ],
      "execution_count": 2,
      "outputs": [
        {
          "output_type": "stream",
          "text": [
            "2.0.0-beta1\n",
            "2.2.4\n"
          ],
          "name": "stdout"
        },
        {
          "output_type": "stream",
          "text": [
            "Using TensorFlow backend.\n"
          ],
          "name": "stderr"
        }
      ]
    },
    {
      "cell_type": "code",
      "metadata": {
        "id": "BEXJZVlYiLlh",
        "colab_type": "code",
        "colab": {}
      },
      "source": [
        "#Loading the dataset and preprocessing\n",
        "\n",
        "data  = tf.keras.datasets.mnist\n",
        "(x_train,y_train),(x_test,y_test) = data.load_data()\n",
        "x_train = x_train / 255.\n",
        "x_test = x_test / 255."
      ],
      "execution_count": 0,
      "outputs": []
    },
    {
      "cell_type": "code",
      "metadata": {
        "id": "_m6zWSlEEfsm",
        "colab_type": "code",
        "colab": {}
      },
      "source": [
        "#Developing the model\n",
        "\n",
        "model = tf.keras.models.Sequential([\n",
        "    \n",
        "    tf.keras.layers.Flatten(input_shape = (28,28)),\n",
        "    tf.keras.layers.Dense(128,activation = 'relu'),\n",
        "    tf.keras.layers.Dropout(0.2),\n",
        "    tf.keras.layers.Dense(10,activation = 'softmax')\n",
        "])\n",
        "\n",
        "model.compile(optimizer = 'adam',loss = 'sparse_categorical_crossentropy',metrics = ['accuracy'])"
      ],
      "execution_count": 0,
      "outputs": []
    },
    {
      "cell_type": "code",
      "metadata": {
        "id": "y2D5G0I0N6de",
        "colab_type": "code",
        "colab": {
          "base_uri": "https://localhost:8080/",
          "height": 328
        },
        "outputId": "1b48acb9-bea9-4aae-d6a9-455dbf59a8b5"
      },
      "source": [
        "#Traning and Testing\n",
        "\n",
        "model.fit(x_train,y_train,epochs = 5,validation_data = (x_test,y_test))\n"
      ],
      "execution_count": 7,
      "outputs": [
        {
          "output_type": "stream",
          "text": [
            "WARNING: Logging before flag parsing goes to stderr.\n",
            "W0710 14:23:53.664348 140658035574656 deprecation.py:323] From /usr/local/lib/python3.6/dist-packages/tensorflow/python/ops/math_grad.py:1250: add_dispatch_support.<locals>.wrapper (from tensorflow.python.ops.array_ops) is deprecated and will be removed in a future version.\n",
            "Instructions for updating:\n",
            "Use tf.where in 2.0, which has the same broadcast rule as np.where\n"
          ],
          "name": "stderr"
        },
        {
          "output_type": "stream",
          "text": [
            "Train on 60000 samples, validate on 10000 samples\n",
            "Epoch 1/5\n",
            "60000/60000 [==============================] - 7s 119us/sample - loss: 0.2981 - accuracy: 0.9138 - val_loss: 0.1389 - val_accuracy: 0.9589\n",
            "Epoch 2/5\n",
            "60000/60000 [==============================] - 7s 121us/sample - loss: 0.1456 - accuracy: 0.9556 - val_loss: 0.1018 - val_accuracy: 0.9678\n",
            "Epoch 3/5\n",
            "60000/60000 [==============================] - 8s 125us/sample - loss: 0.1094 - accuracy: 0.9677 - val_loss: 0.0937 - val_accuracy: 0.9708\n",
            "Epoch 4/5\n",
            "60000/60000 [==============================] - 8s 126us/sample - loss: 0.0911 - accuracy: 0.9719 - val_loss: 0.0774 - val_accuracy: 0.9755\n",
            "Epoch 5/5\n",
            "60000/60000 [==============================] - 8s 125us/sample - loss: 0.0765 - accuracy: 0.9757 - val_loss: 0.0724 - val_accuracy: 0.9770\n"
          ],
          "name": "stdout"
        },
        {
          "output_type": "execute_result",
          "data": {
            "text/plain": [
              "<tensorflow.python.keras.callbacks.History at 0x7fed479dc4e0>"
            ]
          },
          "metadata": {
            "tags": []
          },
          "execution_count": 7
        }
      ]
    }
  ]
}